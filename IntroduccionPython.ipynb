{
  "cells": [
    {
      "cell_type": "markdown",
      "metadata": {
        "id": "view-in-github",
        "colab_type": "text"
      },
      "source": [
        "<a href=\"https://colab.research.google.com/github/jhon-172022/Automatizacion-con-Pyhton/blob/main/IntroduccionPython.ipynb\" target=\"_parent\"><img src=\"https://colab.research.google.com/assets/colab-badge.svg\" alt=\"Open In Colab\"/></a>"
      ]
    },
    {
      "cell_type": "markdown",
      "id": "8f17dd92",
      "metadata": {
        "id": "8f17dd92"
      },
      "source": [
        "# Hello World (Hola Mundo)"
      ]
    },
    {
      "cell_type": "code",
      "execution_count": null,
      "id": "3ba6128c",
      "metadata": {
        "id": "3ba6128c",
        "outputId": "7f7b9ec6-c1a8-4e7f-f3da-c847ad89bb81"
      },
      "outputs": [
        {
          "name": "stdout",
          "output_type": "stream",
          "text": [
            "Hello World\n"
          ]
        }
      ],
      "source": [
        "print(\"Hello World\")"
      ]
    },
    {
      "cell_type": "markdown",
      "id": "8f1c99f6",
      "metadata": {
        "id": "8f1c99f6"
      },
      "source": [
        "A diferencia de muchos editores de texto, Jupyter Notebook nos permite mostrar el ultimo objeto en una celda sin especificar la funcion print."
      ]
    },
    {
      "cell_type": "code",
      "execution_count": null,
      "id": "80018e1d",
      "metadata": {
        "scrolled": false,
        "id": "80018e1d",
        "outputId": "a359e969-3614-468b-86ec-c2ca5d30564c"
      },
      "outputs": [
        {
          "data": {
            "text/plain": [
              "'Hello World'"
            ]
          },
          "execution_count": 2,
          "metadata": {},
          "output_type": "execute_result"
        }
      ],
      "source": [
        "\"Hello World\""
      ]
    },
    {
      "cell_type": "markdown",
      "id": "71060ab1",
      "metadata": {
        "id": "71060ab1"
      },
      "source": [
        "# Tipos de datos"
      ]
    },
    {
      "cell_type": "markdown",
      "id": "130aa203",
      "metadata": {
        "id": "130aa203"
      },
      "source": [
        "## Integer/Float"
      ]
    },
    {
      "cell_type": "code",
      "execution_count": null,
      "id": "246aa088",
      "metadata": {
        "id": "246aa088",
        "outputId": "f229a8b1-9c17-4c01-d69b-40668621ce44"
      },
      "outputs": [
        {
          "data": {
            "text/plain": [
              "int"
            ]
          },
          "execution_count": 3,
          "metadata": {},
          "output_type": "execute_result"
        }
      ],
      "source": [
        "# la funcion type nos permite ver el tipo de dato de un objecto\n",
        "type(1)"
      ]
    },
    {
      "cell_type": "code",
      "execution_count": null,
      "id": "1efdac18",
      "metadata": {
        "scrolled": false,
        "id": "1efdac18",
        "outputId": "b15bd0d5-17d6-4189-cc21-b2e89c199f6b"
      },
      "outputs": [
        {
          "data": {
            "text/plain": [
              "float"
            ]
          },
          "execution_count": 4,
          "metadata": {},
          "output_type": "execute_result"
        }
      ],
      "source": [
        "type(2.3)"
      ]
    },
    {
      "cell_type": "markdown",
      "id": "71ced1ad",
      "metadata": {
        "id": "71ced1ad"
      },
      "source": [
        "### Operaciones"
      ]
    },
    {
      "cell_type": "markdown",
      "id": "e110146a",
      "metadata": {
        "id": "e110146a"
      },
      "source": [
        "- Adicion: +\n",
        "- Substraccion: -\n",
        "- Multiplicacion: *\n",
        "- Division: /\n",
        "- Exponente: **\n",
        "- Residuo: %\n",
        "- Division entera: //"
      ]
    },
    {
      "cell_type": "code",
      "execution_count": null,
      "id": "68749258",
      "metadata": {
        "id": "68749258",
        "outputId": "9fdb45a6-023e-47d0-891b-a81d66f6bc99"
      },
      "outputs": [
        {
          "data": {
            "text/plain": [
              "3"
            ]
          },
          "execution_count": 5,
          "metadata": {},
          "output_type": "execute_result"
        }
      ],
      "source": [
        "1 + 2"
      ]
    },
    {
      "cell_type": "code",
      "execution_count": null,
      "id": "744389a2",
      "metadata": {
        "id": "744389a2",
        "outputId": "49d9c9ed-06af-49ea-d96e-f7f36313d905"
      },
      "outputs": [
        {
          "data": {
            "text/plain": [
              "9"
            ]
          },
          "execution_count": 6,
          "metadata": {},
          "output_type": "execute_result"
        }
      ],
      "source": [
        "3 ** 2"
      ]
    },
    {
      "cell_type": "markdown",
      "id": "776ca8d0",
      "metadata": {
        "id": "776ca8d0"
      },
      "source": [
        "## Boolean"
      ]
    },
    {
      "cell_type": "code",
      "execution_count": null,
      "id": "ff929aff",
      "metadata": {
        "id": "ff929aff",
        "outputId": "7ac4bd74-6e2f-4863-a120-26d0af19efa3"
      },
      "outputs": [
        {
          "data": {
            "text/plain": [
              "bool"
            ]
          },
          "execution_count": 7,
          "metadata": {},
          "output_type": "execute_result"
        }
      ],
      "source": [
        "type(True)"
      ]
    },
    {
      "cell_type": "markdown",
      "id": "3f8fb26b",
      "metadata": {
        "id": "3f8fb26b"
      },
      "source": [
        "## String (Cadena de texto)"
      ]
    },
    {
      "cell_type": "code",
      "execution_count": null,
      "id": "c8c4d779",
      "metadata": {
        "scrolled": true,
        "id": "c8c4d779",
        "outputId": "d30b4288-d57b-4926-846c-6c0a4f3c61b7"
      },
      "outputs": [
        {
          "data": {
            "text/plain": [
              "str"
            ]
          },
          "execution_count": 8,
          "metadata": {},
          "output_type": "execute_result"
        }
      ],
      "source": [
        "type(\"Hello World\")"
      ]
    },
    {
      "cell_type": "markdown",
      "id": "8844ddb6",
      "metadata": {
        "id": "8844ddb6"
      },
      "source": [
        "### String Metodos"
      ]
    },
    {
      "cell_type": "code",
      "execution_count": null,
      "id": "0886917d",
      "metadata": {
        "id": "0886917d",
        "outputId": "f5d79ca0-7a7a-4546-a786-6166af7e848d"
      },
      "outputs": [
        {
          "name": "stdout",
          "output_type": "stream",
          "text": [
            "HELLO WORLD\n",
            "hello world\n",
            "Hello World\n",
            "3\n",
            "hellu wurld\n"
          ]
        }
      ],
      "source": [
        "# cambiar minuscula, mayuscula, etc\n",
        "print(\"Hello World\".upper())\n",
        "print(\"Hello World\".lower())\n",
        "print(\"hello world\".title())\n",
        "\n",
        "# contar letras\n",
        "print(\"hello world\".count('l'))\n",
        "# reemplazar letras de cadenas de texto\n",
        "print(\"hello world\".replace('o', 'u'))"
      ]
    },
    {
      "cell_type": "markdown",
      "id": "87dcd481",
      "metadata": {
        "id": "87dcd481"
      },
      "source": [
        "# Variables"
      ]
    },
    {
      "cell_type": "code",
      "execution_count": null,
      "id": "02498e35",
      "metadata": {
        "id": "02498e35"
      },
      "outputs": [],
      "source": [
        "message_1 = \"Estoy aprendiendo Python\""
      ]
    },
    {
      "cell_type": "code",
      "execution_count": null,
      "id": "b86875da",
      "metadata": {
        "id": "b86875da",
        "outputId": "29d8ec15-a05d-48da-da48-350ff838c7d1"
      },
      "outputs": [
        {
          "data": {
            "text/plain": [
              "'Estoy aprendiendo Python'"
            ]
          },
          "execution_count": 11,
          "metadata": {},
          "output_type": "execute_result"
        }
      ],
      "source": [
        "message_1"
      ]
    },
    {
      "cell_type": "code",
      "execution_count": null,
      "id": "a40317d1",
      "metadata": {
        "id": "a40317d1"
      },
      "outputs": [],
      "source": [
        "message_2 = \"y es divertido!\""
      ]
    },
    {
      "cell_type": "code",
      "execution_count": null,
      "id": "b5f60e2c",
      "metadata": {
        "id": "b5f60e2c",
        "outputId": "c958b7d9-06a0-42a0-f8de-4b501233eb75"
      },
      "outputs": [
        {
          "data": {
            "text/plain": [
              "'y es divertido!'"
            ]
          },
          "execution_count": 13,
          "metadata": {},
          "output_type": "execute_result"
        }
      ],
      "source": [
        "message_2"
      ]
    },
    {
      "cell_type": "code",
      "execution_count": null,
      "id": "30000529",
      "metadata": {
        "id": "30000529",
        "outputId": "20cf50b1-9b10-440a-a78f-c2c9c034eadd"
      },
      "outputs": [
        {
          "data": {
            "text/plain": [
              "'Estoy aprendiendo Pythony es divertido!'"
            ]
          },
          "execution_count": 14,
          "metadata": {},
          "output_type": "execute_result"
        }
      ],
      "source": [
        "message_1 + message_2"
      ]
    },
    {
      "cell_type": "code",
      "execution_count": null,
      "id": "d387f860",
      "metadata": {
        "id": "d387f860",
        "outputId": "21503107-9c11-421e-8c63-5f547323ed64"
      },
      "outputs": [
        {
          "data": {
            "text/plain": [
              "'Estoy aprendiendo Python y es divertido!'"
            ]
          },
          "execution_count": 15,
          "metadata": {},
          "output_type": "execute_result"
        }
      ],
      "source": [
        "message_1 + \" \" + message_2"
      ]
    },
    {
      "cell_type": "code",
      "execution_count": null,
      "id": "31c8f9ee",
      "metadata": {
        "id": "31c8f9ee",
        "outputId": "81961fbb-198b-455b-e9f7-f15b62fd2704"
      },
      "outputs": [
        {
          "data": {
            "text/plain": [
              "'Estoy aprendiendo Python y es divertido!'"
            ]
          },
          "execution_count": 16,
          "metadata": {},
          "output_type": "execute_result"
        }
      ],
      "source": [
        "message = f'{message_1} {message_2}'\n",
        "message"
      ]
    },
    {
      "cell_type": "markdown",
      "id": "a9626618",
      "metadata": {
        "id": "a9626618"
      },
      "source": [
        "# Listas"
      ]
    },
    {
      "cell_type": "code",
      "execution_count": null,
      "id": "f6d9bbee",
      "metadata": {
        "id": "f6d9bbee"
      },
      "outputs": [],
      "source": [
        "countries = ['United States', 'India', 'China', 'Brazil']"
      ]
    },
    {
      "cell_type": "code",
      "execution_count": null,
      "id": "c5089cc4",
      "metadata": {
        "id": "c5089cc4",
        "outputId": "19b939b4-9712-4a1b-fe12-163967122e0d"
      },
      "outputs": [
        {
          "data": {
            "text/plain": [
              "['United States', 'India', 'China', 'Brazil']"
            ]
          },
          "execution_count": 18,
          "metadata": {},
          "output_type": "execute_result"
        }
      ],
      "source": [
        "countries"
      ]
    },
    {
      "cell_type": "code",
      "execution_count": null,
      "id": "da06ab7e",
      "metadata": {
        "id": "da06ab7e",
        "outputId": "0b8ff9a9-b24c-4d35-e675-4c389df4a25b"
      },
      "outputs": [
        {
          "data": {
            "text/plain": [
              "'United States'"
            ]
          },
          "execution_count": 19,
          "metadata": {},
          "output_type": "execute_result"
        }
      ],
      "source": [
        "countries[0]"
      ]
    },
    {
      "cell_type": "code",
      "execution_count": null,
      "id": "bce99167",
      "metadata": {
        "id": "bce99167",
        "outputId": "835efa08-7bb0-4f2d-d28c-3c14ab02295d"
      },
      "outputs": [
        {
          "data": {
            "text/plain": [
              "'India'"
            ]
          },
          "execution_count": 20,
          "metadata": {},
          "output_type": "execute_result"
        }
      ],
      "source": [
        "countries[1]"
      ]
    },
    {
      "cell_type": "code",
      "execution_count": null,
      "id": "9ffc8ff2",
      "metadata": {
        "id": "9ffc8ff2",
        "outputId": "fe9f3dfb-1296-4a1f-dbf3-f52d91940f06"
      },
      "outputs": [
        {
          "data": {
            "text/plain": [
              "'Brazil'"
            ]
          },
          "execution_count": 21,
          "metadata": {},
          "output_type": "execute_result"
        }
      ],
      "source": [
        "countries[3]"
      ]
    },
    {
      "cell_type": "code",
      "execution_count": null,
      "id": "3846b45e",
      "metadata": {
        "id": "3846b45e",
        "outputId": "25106fb4-30d4-42cb-dd70-0663eb69a46b"
      },
      "outputs": [
        {
          "data": {
            "text/plain": [
              "'Brazil'"
            ]
          },
          "execution_count": 22,
          "metadata": {},
          "output_type": "execute_result"
        }
      ],
      "source": [
        "countries[-1]"
      ]
    },
    {
      "cell_type": "code",
      "execution_count": null,
      "id": "adc8746a",
      "metadata": {
        "id": "adc8746a",
        "outputId": "b584732e-e357-420d-d4d4-65f94732da67"
      },
      "outputs": [
        {
          "data": {
            "text/plain": [
              "'United States'"
            ]
          },
          "execution_count": 23,
          "metadata": {},
          "output_type": "execute_result"
        }
      ],
      "source": [
        "countries[-4]"
      ]
    },
    {
      "cell_type": "markdown",
      "id": "26e9657a",
      "metadata": {
        "id": "26e9657a"
      },
      "source": [
        "## Rebanada / Slicing"
      ]
    },
    {
      "cell_type": "markdown",
      "id": "63b996ba",
      "metadata": {
        "id": "63b996ba"
      },
      "source": [
        "nombre_lista[start:stop]"
      ]
    },
    {
      "cell_type": "code",
      "execution_count": null,
      "id": "5b7acce7",
      "metadata": {
        "id": "5b7acce7",
        "outputId": "80822066-dc76-401c-c9e3-fca878dbd90e"
      },
      "outputs": [
        {
          "data": {
            "text/plain": [
              "['United States', 'India', 'China', 'Brazil']"
            ]
          },
          "execution_count": 24,
          "metadata": {},
          "output_type": "execute_result"
        }
      ],
      "source": [
        "countries"
      ]
    },
    {
      "cell_type": "code",
      "execution_count": null,
      "id": "dda2e1bf",
      "metadata": {
        "scrolled": true,
        "id": "dda2e1bf",
        "outputId": "f4663ae6-5639-48e6-b8d8-4bf2dad44af4"
      },
      "outputs": [
        {
          "data": {
            "text/plain": [
              "['United States', 'India', 'China']"
            ]
          },
          "execution_count": 25,
          "metadata": {},
          "output_type": "execute_result"
        }
      ],
      "source": [
        "countries[0:3]"
      ]
    },
    {
      "cell_type": "code",
      "execution_count": null,
      "id": "a4dfeea2",
      "metadata": {
        "id": "a4dfeea2",
        "outputId": "93b4266f-0103-4482-a6f3-c752d41b506a"
      },
      "outputs": [
        {
          "data": {
            "text/plain": [
              "['India', 'China', 'Brazil']"
            ]
          },
          "execution_count": 26,
          "metadata": {},
          "output_type": "execute_result"
        }
      ],
      "source": [
        "countries[1:]"
      ]
    },
    {
      "cell_type": "code",
      "execution_count": null,
      "id": "ba863b5d",
      "metadata": {
        "id": "ba863b5d",
        "outputId": "65200902-ec6f-46ca-cf77-27e7ba641fe9"
      },
      "outputs": [
        {
          "data": {
            "text/plain": [
              "['United States', 'India']"
            ]
          },
          "execution_count": 27,
          "metadata": {},
          "output_type": "execute_result"
        }
      ],
      "source": [
        "countries[:2]"
      ]
    },
    {
      "cell_type": "markdown",
      "id": "e6398399",
      "metadata": {
        "id": "e6398399"
      },
      "source": [
        "## Operaciones y Metodos"
      ]
    },
    {
      "cell_type": "code",
      "execution_count": null,
      "id": "b13c7822",
      "metadata": {
        "id": "b13c7822",
        "outputId": "ccb9e1d4-475b-4973-e891-d9ff869e56b5"
      },
      "outputs": [
        {
          "data": {
            "text/plain": [
              "['United States', 'India', 'China', 'Brazil']"
            ]
          },
          "execution_count": 28,
          "metadata": {},
          "output_type": "execute_result"
        }
      ],
      "source": [
        "countries"
      ]
    },
    {
      "cell_type": "code",
      "execution_count": null,
      "id": "48bf94cc",
      "metadata": {
        "id": "48bf94cc"
      },
      "outputs": [],
      "source": [
        "countries.append('Canada')"
      ]
    },
    {
      "cell_type": "code",
      "execution_count": null,
      "id": "530cb895",
      "metadata": {
        "id": "530cb895",
        "outputId": "8e9c5f6c-c119-48a6-fdc5-5d8455dada19"
      },
      "outputs": [
        {
          "data": {
            "text/plain": [
              "['United States', 'India', 'China', 'Brazil', 'Canada']"
            ]
          },
          "execution_count": 30,
          "metadata": {},
          "output_type": "execute_result"
        }
      ],
      "source": [
        "countries"
      ]
    },
    {
      "cell_type": "code",
      "execution_count": null,
      "id": "db7a95bb",
      "metadata": {
        "id": "db7a95bb"
      },
      "outputs": [],
      "source": [
        "countries.insert(0, 'Argentina')"
      ]
    },
    {
      "cell_type": "code",
      "execution_count": null,
      "id": "48aa4797",
      "metadata": {
        "id": "48aa4797",
        "outputId": "b4a9ce5b-c29c-4b6b-b1fd-6f37b12bded1"
      },
      "outputs": [
        {
          "data": {
            "text/plain": [
              "['Argentina', 'United States', 'India', 'China', 'Brazil', 'Canada']"
            ]
          },
          "execution_count": 32,
          "metadata": {},
          "output_type": "execute_result"
        }
      ],
      "source": [
        "countries"
      ]
    },
    {
      "cell_type": "code",
      "execution_count": null,
      "id": "edda563c",
      "metadata": {
        "id": "edda563c"
      },
      "outputs": [],
      "source": [
        "countries_2 = ['UK', 'Alemania', 'Australia']"
      ]
    },
    {
      "cell_type": "code",
      "execution_count": null,
      "id": "66c3b14b",
      "metadata": {
        "id": "66c3b14b",
        "outputId": "43639988-bf8b-4915-e028-a413f8962a8e"
      },
      "outputs": [
        {
          "data": {
            "text/plain": [
              "['Argentina',\n",
              " 'United States',\n",
              " 'India',\n",
              " 'China',\n",
              " 'Brazil',\n",
              " 'Canada',\n",
              " 'UK',\n",
              " 'Alemania',\n",
              " 'Australia']"
            ]
          },
          "execution_count": 34,
          "metadata": {},
          "output_type": "execute_result"
        }
      ],
      "source": [
        "countries + countries_2"
      ]
    },
    {
      "cell_type": "code",
      "execution_count": null,
      "id": "5bf63d24",
      "metadata": {
        "id": "5bf63d24"
      },
      "outputs": [],
      "source": [
        "nueva_lista = [countries, countries_2]"
      ]
    },
    {
      "cell_type": "code",
      "execution_count": null,
      "id": "4db6950b",
      "metadata": {
        "id": "4db6950b",
        "outputId": "cb9411af-ebc8-4994-bafd-683e4cabc14f"
      },
      "outputs": [
        {
          "data": {
            "text/plain": [
              "[['Argentina', 'United States', 'India', 'China', 'Brazil', 'Canada'],\n",
              " ['UK', 'Alemania', 'Australia']]"
            ]
          },
          "execution_count": 36,
          "metadata": {},
          "output_type": "execute_result"
        }
      ],
      "source": [
        "nueva_lista"
      ]
    },
    {
      "cell_type": "markdown",
      "id": "2a8c7b54",
      "metadata": {
        "id": "2a8c7b54"
      },
      "source": [
        "## Eliminar elementos"
      ]
    },
    {
      "cell_type": "code",
      "execution_count": null,
      "id": "70d6b31e",
      "metadata": {
        "id": "70d6b31e"
      },
      "outputs": [],
      "source": [
        "countries.remove('Canada')"
      ]
    },
    {
      "cell_type": "code",
      "execution_count": null,
      "id": "802df2d0",
      "metadata": {
        "id": "802df2d0",
        "outputId": "272db22d-c21c-430a-edbc-ed894e482dde"
      },
      "outputs": [
        {
          "data": {
            "text/plain": [
              "['Argentina', 'United States', 'India', 'China', 'Brazil']"
            ]
          },
          "execution_count": 38,
          "metadata": {},
          "output_type": "execute_result"
        }
      ],
      "source": [
        "countries"
      ]
    },
    {
      "cell_type": "code",
      "execution_count": null,
      "id": "f16b6176",
      "metadata": {
        "id": "f16b6176",
        "outputId": "7ea87c05-3681-46b7-f44a-fbadc502e352"
      },
      "outputs": [
        {
          "data": {
            "text/plain": [
              "'Argentina'"
            ]
          },
          "execution_count": 39,
          "metadata": {},
          "output_type": "execute_result"
        }
      ],
      "source": [
        "countries.pop(0)"
      ]
    },
    {
      "cell_type": "code",
      "execution_count": null,
      "id": "9263b381",
      "metadata": {
        "id": "9263b381",
        "outputId": "ed33b867-aa12-4c0b-cf32-bd73da7af9a4"
      },
      "outputs": [
        {
          "data": {
            "text/plain": [
              "['United States', 'India', 'China', 'Brazil']"
            ]
          },
          "execution_count": 40,
          "metadata": {},
          "output_type": "execute_result"
        }
      ],
      "source": [
        "countries"
      ]
    },
    {
      "cell_type": "code",
      "execution_count": null,
      "id": "561452c3",
      "metadata": {
        "id": "561452c3"
      },
      "outputs": [],
      "source": [
        "del countries[0]"
      ]
    },
    {
      "cell_type": "code",
      "execution_count": null,
      "id": "e9409771",
      "metadata": {
        "id": "e9409771",
        "outputId": "1c325e60-42c1-44ec-c4be-e1df5984f7cf"
      },
      "outputs": [
        {
          "data": {
            "text/plain": [
              "['India', 'China', 'Brazil']"
            ]
          },
          "execution_count": 42,
          "metadata": {},
          "output_type": "execute_result"
        }
      ],
      "source": [
        "countries"
      ]
    },
    {
      "cell_type": "markdown",
      "id": "8efef7a0",
      "metadata": {
        "id": "8efef7a0"
      },
      "source": [
        "## Ordenar una lista"
      ]
    },
    {
      "cell_type": "code",
      "execution_count": null,
      "id": "f35a69fd",
      "metadata": {
        "id": "f35a69fd"
      },
      "outputs": [],
      "source": [
        "numbers = [4,3,10,7,1,2]"
      ]
    },
    {
      "cell_type": "code",
      "execution_count": null,
      "id": "7689a994",
      "metadata": {
        "id": "7689a994",
        "outputId": "8e6cd406-6e10-4435-e708-9a4c2dba87c4"
      },
      "outputs": [
        {
          "data": {
            "text/plain": [
              "[4, 3, 10, 7, 1, 2]"
            ]
          },
          "execution_count": 44,
          "metadata": {},
          "output_type": "execute_result"
        }
      ],
      "source": [
        "numbers"
      ]
    },
    {
      "cell_type": "code",
      "execution_count": null,
      "id": "d8c8a0bc",
      "metadata": {
        "id": "d8c8a0bc"
      },
      "outputs": [],
      "source": [
        "numbers.sort()"
      ]
    },
    {
      "cell_type": "code",
      "execution_count": null,
      "id": "36c1df87",
      "metadata": {
        "id": "36c1df87",
        "outputId": "8794d147-3ea8-43f3-f400-60cd8c15369c"
      },
      "outputs": [
        {
          "data": {
            "text/plain": [
              "[1, 2, 3, 4, 7, 10]"
            ]
          },
          "execution_count": 46,
          "metadata": {},
          "output_type": "execute_result"
        }
      ],
      "source": [
        "numbers"
      ]
    },
    {
      "cell_type": "code",
      "execution_count": null,
      "id": "4f1a3090",
      "metadata": {
        "id": "4f1a3090"
      },
      "outputs": [],
      "source": [
        "numbers.sort(reverse=True)"
      ]
    },
    {
      "cell_type": "code",
      "execution_count": null,
      "id": "725271ed",
      "metadata": {
        "id": "725271ed",
        "outputId": "cfe6d33c-1d51-4a00-a68a-6177d166147d"
      },
      "outputs": [
        {
          "data": {
            "text/plain": [
              "[10, 7, 4, 3, 2, 1]"
            ]
          },
          "execution_count": 48,
          "metadata": {},
          "output_type": "execute_result"
        }
      ],
      "source": [
        "numbers"
      ]
    },
    {
      "cell_type": "code",
      "execution_count": null,
      "id": "18affde9",
      "metadata": {
        "id": "18affde9"
      },
      "outputs": [],
      "source": [
        "numbers[0] = 1000"
      ]
    },
    {
      "cell_type": "code",
      "execution_count": null,
      "id": "ef97a870",
      "metadata": {
        "id": "ef97a870",
        "outputId": "3e58b8d2-5ffa-4b78-f9fd-b0ef36daffdd"
      },
      "outputs": [
        {
          "data": {
            "text/plain": [
              "[1000, 7, 4, 3, 2, 1]"
            ]
          },
          "execution_count": 50,
          "metadata": {},
          "output_type": "execute_result"
        }
      ],
      "source": [
        "numbers"
      ]
    },
    {
      "cell_type": "markdown",
      "id": "0ce04c3d",
      "metadata": {
        "id": "0ce04c3d"
      },
      "source": [
        "## Copiar una Lista"
      ]
    },
    {
      "cell_type": "code",
      "execution_count": null,
      "id": "a9802fa5",
      "metadata": {
        "id": "a9802fa5"
      },
      "outputs": [],
      "source": [
        "countries.append('Argentina')"
      ]
    },
    {
      "cell_type": "code",
      "execution_count": null,
      "id": "adf1e157",
      "metadata": {
        "id": "adf1e157",
        "outputId": "6c105457-4b44-4e7e-eef4-6a46132193c0"
      },
      "outputs": [
        {
          "data": {
            "text/plain": [
              "['India', 'China', 'Brazil', 'Argentina']"
            ]
          },
          "execution_count": 52,
          "metadata": {},
          "output_type": "execute_result"
        }
      ],
      "source": [
        "countries"
      ]
    },
    {
      "cell_type": "code",
      "execution_count": null,
      "id": "98f7848a",
      "metadata": {
        "id": "98f7848a"
      },
      "outputs": [],
      "source": [
        "nueva_lista_3 = countries"
      ]
    },
    {
      "cell_type": "code",
      "execution_count": null,
      "id": "42cc9b19",
      "metadata": {
        "id": "42cc9b19",
        "outputId": "636a1d30-4a00-4896-f79c-8db16428b823"
      },
      "outputs": [
        {
          "data": {
            "text/plain": [
              "['India', 'China', 'Brazil', 'Argentina']"
            ]
          },
          "execution_count": 54,
          "metadata": {},
          "output_type": "execute_result"
        }
      ],
      "source": [
        "nueva_lista_3"
      ]
    },
    {
      "cell_type": "code",
      "execution_count": null,
      "id": "b5d6738d",
      "metadata": {
        "id": "b5d6738d"
      },
      "outputs": [],
      "source": [
        "nueva_lista = countries.copy()"
      ]
    },
    {
      "cell_type": "code",
      "execution_count": null,
      "id": "ba7e4670",
      "metadata": {
        "id": "ba7e4670",
        "outputId": "bfc867fa-337a-478e-f480-28b7a0c4cd3b"
      },
      "outputs": [
        {
          "data": {
            "text/plain": [
              "['India', 'China', 'Brazil', 'Argentina']"
            ]
          },
          "execution_count": 56,
          "metadata": {},
          "output_type": "execute_result"
        }
      ],
      "source": [
        "nueva_lista"
      ]
    },
    {
      "cell_type": "code",
      "execution_count": null,
      "id": "fd51a26a",
      "metadata": {
        "id": "fd51a26a"
      },
      "outputs": [],
      "source": [
        "nueva_lista_2 = countries[:]"
      ]
    },
    {
      "cell_type": "code",
      "execution_count": null,
      "id": "926da670",
      "metadata": {
        "id": "926da670",
        "outputId": "9e597e27-0792-4cc4-d4f2-85cdb7848a5b"
      },
      "outputs": [
        {
          "data": {
            "text/plain": [
              "['India', 'China', 'Brazil', 'Argentina']"
            ]
          },
          "execution_count": 58,
          "metadata": {},
          "output_type": "execute_result"
        }
      ],
      "source": [
        "nueva_lista_2"
      ]
    },
    {
      "cell_type": "markdown",
      "id": "6afd8771",
      "metadata": {
        "id": "6afd8771"
      },
      "source": [
        "# Diccionarios"
      ]
    },
    {
      "cell_type": "code",
      "execution_count": null,
      "id": "9fde462b",
      "metadata": {
        "id": "9fde462b"
      },
      "outputs": [],
      "source": [
        "mi_diccionario = {'key1':'value1', 'key2':'value2'}"
      ]
    },
    {
      "cell_type": "code",
      "execution_count": null,
      "id": "690b0af9",
      "metadata": {
        "id": "690b0af9"
      },
      "outputs": [],
      "source": [
        "my_data = {'nombre':'Frank', 'edad':26}"
      ]
    },
    {
      "cell_type": "code",
      "execution_count": null,
      "id": "edf68d24",
      "metadata": {
        "id": "edf68d24",
        "outputId": "348a011a-c2ba-4717-c6d4-177b3758d8e2"
      },
      "outputs": [
        {
          "data": {
            "text/plain": [
              "{'nombre': 'Frank', 'edad': 26}"
            ]
          },
          "execution_count": 61,
          "metadata": {},
          "output_type": "execute_result"
        }
      ],
      "source": [
        "my_data"
      ]
    },
    {
      "cell_type": "code",
      "execution_count": null,
      "id": "419f5be9",
      "metadata": {
        "id": "419f5be9",
        "outputId": "82949cfd-c61b-44dc-fc4e-750ecf29b12e"
      },
      "outputs": [
        {
          "data": {
            "text/plain": [
              "'Frank'"
            ]
          },
          "execution_count": 62,
          "metadata": {},
          "output_type": "execute_result"
        }
      ],
      "source": [
        "my_data['nombre']"
      ]
    },
    {
      "cell_type": "code",
      "execution_count": null,
      "id": "72459fea",
      "metadata": {
        "id": "72459fea",
        "outputId": "782418d2-a256-4624-bdd7-385967b615c0"
      },
      "outputs": [
        {
          "data": {
            "text/plain": [
              "dict_keys(['nombre', 'edad'])"
            ]
          },
          "execution_count": 63,
          "metadata": {},
          "output_type": "execute_result"
        }
      ],
      "source": [
        "my_data.keys()"
      ]
    },
    {
      "cell_type": "code",
      "execution_count": null,
      "id": "938223aa",
      "metadata": {
        "id": "938223aa",
        "outputId": "a98a75de-dfe3-42b4-cef6-4d56bbd1bca2"
      },
      "outputs": [
        {
          "data": {
            "text/plain": [
              "dict_values(['Frank', 26])"
            ]
          },
          "execution_count": 64,
          "metadata": {},
          "output_type": "execute_result"
        }
      ],
      "source": [
        "my_data.values()"
      ]
    },
    {
      "cell_type": "code",
      "execution_count": null,
      "id": "de57ab41",
      "metadata": {
        "id": "de57ab41",
        "outputId": "0514542d-0434-4dd2-ce3d-cc87709e84b2"
      },
      "outputs": [
        {
          "data": {
            "text/plain": [
              "dict_items([('nombre', 'Frank'), ('edad', 26)])"
            ]
          },
          "execution_count": 65,
          "metadata": {},
          "output_type": "execute_result"
        }
      ],
      "source": [
        "my_data.items()"
      ]
    },
    {
      "cell_type": "markdown",
      "id": "0442b586",
      "metadata": {
        "id": "0442b586"
      },
      "source": [
        "## Agregar / actualizar elementos"
      ]
    },
    {
      "cell_type": "code",
      "execution_count": null,
      "id": "26874846",
      "metadata": {
        "id": "26874846"
      },
      "outputs": [],
      "source": [
        "my_data = {'nombre':'Frank', 'edad':26}"
      ]
    },
    {
      "cell_type": "code",
      "execution_count": null,
      "id": "fdd61902",
      "metadata": {
        "id": "fdd61902"
      },
      "outputs": [],
      "source": [
        "my_data['estatura'] = 1.7"
      ]
    },
    {
      "cell_type": "code",
      "execution_count": null,
      "id": "e67f17e2",
      "metadata": {
        "id": "e67f17e2",
        "outputId": "de0bfb9d-80b2-42fb-df83-85ae44d5a637"
      },
      "outputs": [
        {
          "data": {
            "text/plain": [
              "{'nombre': 'Frank', 'edad': 26, 'estatura': 1.7}"
            ]
          },
          "execution_count": 68,
          "metadata": {},
          "output_type": "execute_result"
        }
      ],
      "source": [
        "my_data"
      ]
    },
    {
      "cell_type": "code",
      "execution_count": null,
      "id": "d081543f",
      "metadata": {
        "id": "d081543f"
      },
      "outputs": [],
      "source": [
        "my_data.update({'estatura':1.9, 'lenguages':['Ingles', 'Español']})"
      ]
    },
    {
      "cell_type": "code",
      "execution_count": null,
      "id": "dd3b4005",
      "metadata": {
        "id": "dd3b4005",
        "outputId": "dec2f29c-e7b3-4d00-97bd-a99e6005cdbd"
      },
      "outputs": [
        {
          "data": {
            "text/plain": [
              "{'nombre': 'Frank',\n",
              " 'edad': 26,\n",
              " 'estatura': 1.9,\n",
              " 'lenguages': ['Ingles', 'Español']}"
            ]
          },
          "execution_count": 70,
          "metadata": {},
          "output_type": "execute_result"
        }
      ],
      "source": [
        "my_data"
      ]
    },
    {
      "cell_type": "markdown",
      "id": "7ab1d6fa",
      "metadata": {
        "id": "7ab1d6fa"
      },
      "source": [
        "## Copiar un diccionario"
      ]
    },
    {
      "cell_type": "code",
      "execution_count": null,
      "id": "e380f4f9",
      "metadata": {
        "id": "e380f4f9"
      },
      "outputs": [],
      "source": [
        "nuevo_diccionario = my_data.copy()"
      ]
    },
    {
      "cell_type": "code",
      "execution_count": null,
      "id": "42554e10",
      "metadata": {
        "id": "42554e10",
        "outputId": "aab182c2-cf9b-4a69-ef49-3a2566b591fb"
      },
      "outputs": [
        {
          "data": {
            "text/plain": [
              "{'nombre': 'Frank',\n",
              " 'edad': 26,\n",
              " 'estatura': 1.9,\n",
              " 'lenguages': ['Ingles', 'Español']}"
            ]
          },
          "execution_count": 72,
          "metadata": {},
          "output_type": "execute_result"
        }
      ],
      "source": [
        "nuevo_diccionario"
      ]
    },
    {
      "cell_type": "markdown",
      "id": "c906c33c",
      "metadata": {
        "id": "c906c33c"
      },
      "source": [
        "## Eliminar Elementos"
      ]
    },
    {
      "cell_type": "code",
      "execution_count": null,
      "id": "3bc7331a",
      "metadata": {
        "id": "3bc7331a",
        "outputId": "cd60a075-f523-4e7a-94a9-ad756d617bc3"
      },
      "outputs": [
        {
          "data": {
            "text/plain": [
              "{'nombre': 'Frank',\n",
              " 'edad': 26,\n",
              " 'estatura': 1.9,\n",
              " 'lenguages': ['Ingles', 'Español']}"
            ]
          },
          "execution_count": 73,
          "metadata": {},
          "output_type": "execute_result"
        }
      ],
      "source": [
        "my_data"
      ]
    },
    {
      "cell_type": "code",
      "execution_count": null,
      "id": "7b9839c9",
      "metadata": {
        "id": "7b9839c9",
        "outputId": "af33dd0f-6ac0-4c8d-a3a4-8e91560ddcf0"
      },
      "outputs": [
        {
          "data": {
            "text/plain": [
              "1.9"
            ]
          },
          "execution_count": 74,
          "metadata": {},
          "output_type": "execute_result"
        }
      ],
      "source": [
        "my_data.pop('estatura')"
      ]
    },
    {
      "cell_type": "code",
      "execution_count": null,
      "id": "79e38ff1",
      "metadata": {
        "id": "79e38ff1",
        "outputId": "4e1f372d-c6b8-47ed-ff4c-8eae651fdffc"
      },
      "outputs": [
        {
          "data": {
            "text/plain": [
              "{'nombre': 'Frank', 'edad': 26, 'lenguages': ['Ingles', 'Español']}"
            ]
          },
          "execution_count": 75,
          "metadata": {},
          "output_type": "execute_result"
        }
      ],
      "source": [
        "my_data"
      ]
    },
    {
      "cell_type": "code",
      "execution_count": null,
      "id": "41caa2c1",
      "metadata": {
        "id": "41caa2c1"
      },
      "outputs": [],
      "source": [
        "del my_data['lenguages']"
      ]
    },
    {
      "cell_type": "code",
      "execution_count": null,
      "id": "59ce8db8",
      "metadata": {
        "id": "59ce8db8",
        "outputId": "ef10c388-8e12-4aa4-c9c2-1f79851394ff"
      },
      "outputs": [
        {
          "data": {
            "text/plain": [
              "{'nombre': 'Frank', 'edad': 26}"
            ]
          },
          "execution_count": 77,
          "metadata": {},
          "output_type": "execute_result"
        }
      ],
      "source": [
        "my_data"
      ]
    },
    {
      "cell_type": "code",
      "execution_count": null,
      "id": "b0c43754",
      "metadata": {
        "id": "b0c43754"
      },
      "outputs": [],
      "source": [
        "my_data.clear()"
      ]
    },
    {
      "cell_type": "code",
      "execution_count": null,
      "id": "f709abe3",
      "metadata": {
        "id": "f709abe3",
        "outputId": "5d847e83-7383-4b47-b251-8ec239392303"
      },
      "outputs": [
        {
          "data": {
            "text/plain": [
              "{}"
            ]
          },
          "execution_count": 79,
          "metadata": {},
          "output_type": "execute_result"
        }
      ],
      "source": [
        "my_data"
      ]
    },
    {
      "cell_type": "markdown",
      "id": "472f2980",
      "metadata": {
        "id": "472f2980"
      },
      "source": [
        "# Condicional If"
      ]
    },
    {
      "cell_type": "code",
      "execution_count": null,
      "id": "20efe816",
      "metadata": {
        "scrolled": true,
        "id": "20efe816",
        "outputId": "4777ca91-ef81-4efe-f647-ce5b8d5cbba1"
      },
      "outputs": [
        {
          "name": "stdout",
          "output_type": "stream",
          "text": [
            "Eres mayor de edad\n"
          ]
        }
      ],
      "source": [
        "edad = 24\n",
        "\n",
        "if edad>=18:\n",
        "    print(\"Eres mayor de edad\")\n",
        "elif edad>=13:\n",
        "    print(\"Eres un adolescente\")\n",
        "else:\n",
        "    print(\"Eres un niño\")"
      ]
    },
    {
      "cell_type": "code",
      "execution_count": null,
      "id": "42e6dd19",
      "metadata": {
        "id": "42e6dd19"
      },
      "outputs": [],
      "source": [
        "countries = ['United States', 'India', 'China', 'Brazil']"
      ]
    },
    {
      "cell_type": "code",
      "execution_count": null,
      "id": "4d383aaf",
      "metadata": {
        "id": "4d383aaf",
        "outputId": "9897665d-841e-4764-acb8-b9dbe6ff236a"
      },
      "outputs": [
        {
          "name": "stdout",
          "output_type": "stream",
          "text": [
            "Pais NO está en la lista\n"
          ]
        }
      ],
      "source": [
        "if \"Colombia\" in countries:\n",
        "    print(\"Pais está en la lista\")\n",
        "else:\n",
        "    print(\"Pais NO está en la lista\")"
      ]
    },
    {
      "cell_type": "markdown",
      "id": "cb5af37c",
      "metadata": {
        "id": "cb5af37c"
      },
      "source": [
        "# For loop (bucle for)"
      ]
    },
    {
      "cell_type": "code",
      "execution_count": null,
      "id": "bfd7c88e",
      "metadata": {
        "id": "bfd7c88e",
        "outputId": "94cc8844-201f-47c8-f4e5-c535f5906c45"
      },
      "outputs": [
        {
          "name": "stdout",
          "output_type": "stream",
          "text": [
            "United States\n",
            "India\n",
            "China\n",
            "Brazil\n"
          ]
        }
      ],
      "source": [
        "for pais in countries:\n",
        "    print(pais)"
      ]
    },
    {
      "cell_type": "code",
      "execution_count": null,
      "id": "78e579f5",
      "metadata": {
        "id": "78e579f5",
        "outputId": "150ee1f5-92a3-444b-cef3-62c8628f9704"
      },
      "outputs": [
        {
          "name": "stdout",
          "output_type": "stream",
          "text": [
            "United States\n"
          ]
        }
      ],
      "source": [
        "for pais in countries:\n",
        "    if pais == \"United States\":\n",
        "        print(pais)"
      ]
    },
    {
      "cell_type": "code",
      "execution_count": null,
      "id": "95d8527c",
      "metadata": {
        "scrolled": false,
        "id": "95d8527c",
        "outputId": "58a6c025-2c08-4427-a5a0-fb653f5e3bbb"
      },
      "outputs": [
        {
          "name": "stdout",
          "output_type": "stream",
          "text": [
            "0\n",
            "United States\n",
            "1\n",
            "India\n",
            "2\n",
            "China\n",
            "3\n",
            "Brazil\n"
          ]
        }
      ],
      "source": [
        "for numero, pais in enumerate(countries):\n",
        "    print(numero)\n",
        "    print(pais)"
      ]
    },
    {
      "cell_type": "code",
      "execution_count": null,
      "id": "66e216fc",
      "metadata": {
        "id": "66e216fc"
      },
      "outputs": [],
      "source": [
        "my_data = {'nombre':'Frank', 'edad':26}"
      ]
    },
    {
      "cell_type": "code",
      "execution_count": null,
      "id": "c7aa0f0f",
      "metadata": {
        "id": "c7aa0f0f",
        "outputId": "765c0d48-30ba-4645-bd50-0344fe96b8ad"
      },
      "outputs": [
        {
          "data": {
            "text/plain": [
              "{'nombre': 'Frank', 'edad': 26}"
            ]
          },
          "execution_count": 87,
          "metadata": {},
          "output_type": "execute_result"
        }
      ],
      "source": [
        "my_data"
      ]
    },
    {
      "cell_type": "code",
      "execution_count": null,
      "id": "20ef654c",
      "metadata": {
        "id": "20ef654c",
        "outputId": "383ec1b7-711b-4f84-a5fc-cbe296818e02"
      },
      "outputs": [
        {
          "data": {
            "text/plain": [
              "dict_items([('nombre', 'Frank'), ('edad', 26)])"
            ]
          },
          "execution_count": 88,
          "metadata": {},
          "output_type": "execute_result"
        }
      ],
      "source": [
        "my_data.items()"
      ]
    },
    {
      "cell_type": "code",
      "execution_count": null,
      "id": "eefaaf55",
      "metadata": {
        "id": "eefaaf55",
        "outputId": "dcc9dc51-f915-4cd6-92cd-a17325bca4cc"
      },
      "outputs": [
        {
          "name": "stdout",
          "output_type": "stream",
          "text": [
            "nombre\n",
            "Frank\n",
            "edad\n",
            "26\n"
          ]
        }
      ],
      "source": [
        "for key, value in my_data.items():\n",
        "    print(key)\n",
        "    print(value)"
      ]
    },
    {
      "cell_type": "markdown",
      "id": "ef636b65",
      "metadata": {
        "id": "ef636b65"
      },
      "source": [
        "# Funciones"
      ]
    },
    {
      "cell_type": "markdown",
      "id": "1dfc6a5c",
      "metadata": {
        "id": "1dfc6a5c"
      },
      "source": [
        "## Funciones pre-fabricadas"
      ]
    },
    {
      "cell_type": "code",
      "execution_count": null,
      "id": "04d9dd78",
      "metadata": {
        "id": "04d9dd78",
        "outputId": "f64f52ed-1c10-4ebc-8619-75a7d5a7ac4a"
      },
      "outputs": [
        {
          "data": {
            "text/plain": [
              "['United States', 'India', 'China', 'Brazil']"
            ]
          },
          "execution_count": 90,
          "metadata": {},
          "output_type": "execute_result"
        }
      ],
      "source": [
        "countries"
      ]
    },
    {
      "cell_type": "code",
      "execution_count": null,
      "id": "c0a25e12",
      "metadata": {
        "id": "c0a25e12",
        "outputId": "fd5fcc9b-8405-4a1e-8e02-b8c084c3fbe5"
      },
      "outputs": [
        {
          "data": {
            "text/plain": [
              "4"
            ]
          },
          "execution_count": 91,
          "metadata": {},
          "output_type": "execute_result"
        }
      ],
      "source": [
        "len(countries)"
      ]
    },
    {
      "cell_type": "code",
      "execution_count": null,
      "id": "ac29f4f1",
      "metadata": {
        "id": "ac29f4f1",
        "outputId": "ec368aa9-3868-4a20-815b-f94b2eb8127f"
      },
      "outputs": [
        {
          "data": {
            "text/plain": [
              "83"
            ]
          },
          "execution_count": 92,
          "metadata": {},
          "output_type": "execute_result"
        }
      ],
      "source": [
        "max([16, 83, 32, 1, 10])"
      ]
    },
    {
      "cell_type": "code",
      "execution_count": null,
      "id": "3c5bff83",
      "metadata": {
        "id": "3c5bff83",
        "outputId": "05be2070-b760-4747-8cf7-e5a13bfaef25"
      },
      "outputs": [
        {
          "data": {
            "text/plain": [
              "1"
            ]
          },
          "execution_count": 93,
          "metadata": {},
          "output_type": "execute_result"
        }
      ],
      "source": [
        "min([16, 83, 32, 1, 10])"
      ]
    },
    {
      "cell_type": "code",
      "execution_count": null,
      "id": "a355fca5",
      "metadata": {
        "id": "a355fca5",
        "outputId": "a26f47f7-7d1e-47c7-e3d0-c06eb79fc51b"
      },
      "outputs": [
        {
          "data": {
            "text/plain": [
              "list"
            ]
          },
          "execution_count": 94,
          "metadata": {},
          "output_type": "execute_result"
        }
      ],
      "source": [
        "type(countries)"
      ]
    },
    {
      "cell_type": "code",
      "execution_count": null,
      "id": "c7c213d2",
      "metadata": {
        "id": "c7c213d2",
        "outputId": "7f5c8dba-9769-4f29-b3e1-f86efed86e73"
      },
      "outputs": [
        {
          "data": {
            "text/plain": [
              "dict"
            ]
          },
          "execution_count": 95,
          "metadata": {},
          "output_type": "execute_result"
        }
      ],
      "source": [
        "type(my_data)"
      ]
    },
    {
      "cell_type": "code",
      "execution_count": null,
      "id": "138f416d",
      "metadata": {
        "id": "138f416d",
        "outputId": "908cb7b9-2a02-435f-c9bd-08a1fc100e10"
      },
      "outputs": [
        {
          "data": {
            "text/plain": [
              "2.33"
            ]
          },
          "execution_count": 96,
          "metadata": {},
          "output_type": "execute_result"
        }
      ],
      "source": [
        "round(2.333, 2)"
      ]
    },
    {
      "cell_type": "code",
      "execution_count": null,
      "id": "2a5e2f4c",
      "metadata": {
        "id": "2a5e2f4c",
        "outputId": "720791e8-0ae2-40f8-df35-b447fc17c117"
      },
      "outputs": [
        {
          "name": "stdout",
          "output_type": "stream",
          "text": [
            "1\n",
            "3\n",
            "5\n",
            "7\n",
            "9\n"
          ]
        }
      ],
      "source": [
        "for i in range(1, 10, 2):\n",
        "    print(i)"
      ]
    },
    {
      "cell_type": "markdown",
      "id": "382e4cb1",
      "metadata": {
        "id": "382e4cb1"
      },
      "source": [
        "## Crear una funcion"
      ]
    },
    {
      "cell_type": "code",
      "execution_count": null,
      "id": "cf684b14",
      "metadata": {
        "id": "cf684b14"
      },
      "outputs": [],
      "source": [
        "def sumar_numeros(a, b):\n",
        "    suma_final = a + b\n",
        "    return suma_final"
      ]
    },
    {
      "cell_type": "code",
      "execution_count": null,
      "id": "80bfac80",
      "metadata": {
        "id": "80bfac80",
        "outputId": "44cce33e-db51-4afc-ccf0-dafd2d96cd91"
      },
      "outputs": [
        {
          "data": {
            "text/plain": [
              "15"
            ]
          },
          "execution_count": 99,
          "metadata": {},
          "output_type": "execute_result"
        }
      ],
      "source": [
        "sumar_numeros(10, 5)"
      ]
    },
    {
      "cell_type": "markdown",
      "id": "75c249da",
      "metadata": {
        "id": "75c249da"
      },
      "source": [
        "# Modulos"
      ]
    },
    {
      "cell_type": "markdown",
      "id": "fad1afd2",
      "metadata": {
        "id": "fad1afd2"
      },
      "source": [
        "Podemos acceder a un modulo usando la palabra \"import\""
      ]
    },
    {
      "cell_type": "markdown",
      "id": "0cc1dad3",
      "metadata": {
        "id": "0cc1dad3"
      },
      "source": [
        "## Modulo OS"
      ]
    },
    {
      "cell_type": "code",
      "execution_count": null,
      "id": "4c733a02",
      "metadata": {
        "id": "4c733a02"
      },
      "outputs": [],
      "source": [
        "import os"
      ]
    },
    {
      "cell_type": "code",
      "execution_count": null,
      "id": "96d5cf4c",
      "metadata": {
        "id": "96d5cf4c",
        "outputId": "da1f9fb4-24ec-462e-9bb4-92a985801d48"
      },
      "outputs": [
        {
          "data": {
            "text/plain": [
              "'/Users/frankandrade/Udemy/Spanish/Pandas Course/1.Python Crash Course'"
            ]
          },
          "execution_count": 101,
          "metadata": {},
          "output_type": "execute_result"
        }
      ],
      "source": [
        "os.getcwd()"
      ]
    },
    {
      "cell_type": "code",
      "execution_count": null,
      "id": "235ecff1",
      "metadata": {
        "id": "235ecff1",
        "outputId": "699e9fb9-3305-4aa3-e6e8-a7e9ef49e044"
      },
      "outputs": [
        {
          "data": {
            "text/plain": [
              "['Untitled.ipynb',\n",
              " 'Python Course for Excel Users.ipynb',\n",
              " '.ipynb_checkpoints',\n",
              " 'Introduccion a Python.ipynb']"
            ]
          },
          "execution_count": 102,
          "metadata": {},
          "output_type": "execute_result"
        }
      ],
      "source": [
        "os.listdir()"
      ]
    },
    {
      "cell_type": "code",
      "execution_count": null,
      "id": "dc45ad2f",
      "metadata": {
        "id": "dc45ad2f"
      },
      "outputs": [],
      "source": [
        "os.makedirs(\"Nueva Carpeta\")"
      ]
    },
    {
      "cell_type": "code",
      "execution_count": null,
      "id": "a1250b26",
      "metadata": {
        "id": "a1250b26",
        "outputId": "033c86f2-45da-445e-960d-29573089bcc7"
      },
      "outputs": [
        {
          "data": {
            "text/plain": [
              "['Nueva Carpeta',\n",
              " 'Untitled.ipynb',\n",
              " 'Python Course for Excel Users.ipynb',\n",
              " '.ipynb_checkpoints',\n",
              " 'Introduccion a Python.ipynb']"
            ]
          },
          "execution_count": 104,
          "metadata": {},
          "output_type": "execute_result"
        }
      ],
      "source": [
        "os.listdir()"
      ]
    }
  ],
  "metadata": {
    "kernelspec": {
      "display_name": "Python 3",
      "language": "python",
      "name": "python3"
    },
    "language_info": {
      "codemirror_mode": {
        "name": "ipython",
        "version": 3
      },
      "file_extension": ".py",
      "mimetype": "text/x-python",
      "name": "python",
      "nbconvert_exporter": "python",
      "pygments_lexer": "ipython3",
      "version": "3.8.8"
    },
    "toc": {
      "base_numbering": 1,
      "nav_menu": {},
      "number_sections": true,
      "sideBar": true,
      "skip_h1_title": false,
      "title_cell": "Table of Contents",
      "title_sidebar": "Contents",
      "toc_cell": false,
      "toc_position": {},
      "toc_section_display": true,
      "toc_window_display": false
    },
    "colab": {
      "provenance": [],
      "include_colab_link": true
    }
  },
  "nbformat": 4,
  "nbformat_minor": 5
}